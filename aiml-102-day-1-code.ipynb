{
 "cells": [
  {
   "cell_type": "code",
   "execution_count": null,
   "id": "1196e2ae",
   "metadata": {
    "id": "1196e2ae"
   },
   "outputs": [],
   "source": [
    "#######################################################\n",
    "#######################################################\n",
    "############    COPYRIGHT - DATA SOCIETY   ############\n",
    "#######################################################\n",
    "#######################################################\n",
    "\n",
    "## AIML 102 DAY 1/AIML 102 PART 1 ##\n",
    "\n",
    "## NOTE: To run individual pieces of code, select the line of code and\n",
    "##       press ctrl + enter for PCs or command + enter for Macs\n",
    "\n",
    "\n"
   ]
  },
  {
   "cell_type": "code",
   "execution_count": null,
   "id": "195d9ffc",
   "metadata": {
    "id": "195d9ffc"
   },
   "outputs": [],
   "source": [
    "#=================================================-\n",
    "#### Slide 33: Exercise 1  ####\n",
    "\n",
    "\n",
    "\n",
    "\n"
   ]
  },
  {
   "cell_type": "code",
   "execution_count": null,
   "id": "JwPwzpq-y7BF",
   "metadata": {
    "id": "JwPwzpq-y7BF"
   },
   "outputs": [],
   "source": [
    "#=================================================-\n",
    "#### Slide 50: Exercise 2  ####\n",
    "\n",
    "\n",
    "\n"
   ]
  },
  {
   "cell_type": "code",
   "execution_count": null,
   "id": "d1d43b7f",
   "metadata": {
    "id": "d1d43b7f"
   },
   "outputs": [],
   "source": [
    "#######################################################\n",
    "#######################################################\n",
    "############    COPYRIGHT - DATA SOCIETY   ############\n",
    "#######################################################\n",
    "#######################################################\n",
    "\n",
    "## AIML 102 DAY 1/AIML 102 PART 2 ##\n",
    "\n",
    "## NOTE: To run individual pieces of code, select the line of code and\n",
    "##       press ctrl + enter for PCs or command + enter for Macs\n",
    "\n",
    "\n"
   ]
  },
  {
   "cell_type": "code",
   "execution_count": 2,
   "id": "9bd6dbb1",
   "metadata": {
    "id": "9bd6dbb1"
   },
   "outputs": [],
   "source": [
    "#=================================================-\n",
    "#### Slide 2: Loading packages  ####\n",
    "\n",
    "import pandas as pd\n",
    "import numpy as np\n",
    "import pickle\n",
    "import os\n",
    "import matplotlib.pyplot as plt\n",
    "\n",
    "\n"
   ]
  },
  {
   "cell_type": "code",
   "execution_count": 3,
   "id": "0ab08bca",
   "metadata": {
    "id": "0ab08bca"
   },
   "outputs": [],
   "source": [
    "#=================================================-\n",
    "#### Slide 3: Directory settings  ####\n",
    "\n",
    "data_dir = \"/home/jovyan/iqvia-aiml-102/data\"\n",
    "\n",
    "\n"
   ]
  },
  {
   "cell_type": "code",
   "execution_count": 4,
   "id": "a4a7b510",
   "metadata": {
    "id": "a4a7b510"
   },
   "outputs": [
    {
     "name": "stdout",
     "output_type": "stream",
     "text": [
      "  household_id        ind_id  rooms  tablet  males_under_12  males_over_12  \\\n",
      "0    21eb7fcc1  ID_279628684      3       0               0              1   \n",
      "1    0e5d7a658  ID_f29eb3ddd      4       1               0              1   \n",
      "2    2c7317ea8  ID_68de51c94      8       0               0              0   \n",
      "3    2b58d945f  ID_d671db89c      5       1               0              2   \n",
      "4    2b58d945f  ID_d56d6f5f5      5       1               0              2   \n",
      "\n",
      "   males_tot  females_under_12  females_over_12  females_tot  ...  \\\n",
      "0          1                 0                0            0  ...   \n",
      "1          1                 0                0            0  ...   \n",
      "2          0                 0                1            1  ...   \n",
      "3          2                 1                1            2  ...   \n",
      "4          2                 1                1            2  ...   \n",
      "\n",
      "   region_Chorotega  region_pacifico  region_brunca  region_antlantica  \\\n",
      "0                 0                0              0                  0   \n",
      "1                 0                0              0                  0   \n",
      "2                 0                0              0                  0   \n",
      "3                 0                0              0                  0   \n",
      "4                 0                0              0                  0   \n",
      "\n",
      "   region_huetar  urban_zone  rural_zone  age  Target  monthly_rent  \n",
      "0              0           1           0   43       4      190000.0  \n",
      "1              0           1           0   67       4      135000.0  \n",
      "2              0           1           0   92       4           NaN  \n",
      "3              0           1           0   17       4      180000.0  \n",
      "4              0           1           0   37       4      180000.0  \n",
      "\n",
      "[5 rows x 84 columns]\n"
     ]
    }
   ],
   "source": [
    "#=================================================-\n",
    "#### Slide 9: Load the dataset  ####\n",
    "\n",
    "costa_rica_poverty = pd.read_csv(data_dir + '/costa_rica_poverty.csv')\n",
    "print(costa_rica_poverty.head())\n",
    "\n",
    "\n"
   ]
  },
  {
   "cell_type": "code",
   "execution_count": 5,
   "id": "e0fa8116",
   "metadata": {
    "id": "e0fa8116"
   },
   "outputs": [
    {
     "name": "stdout",
     "output_type": "stream",
     "text": [
      "   ppl_total  dependency_rate  num_adults  rooms  age  monthly_rent  Target\n",
      "0          1               37           1      3   43      190000.0       4\n",
      "1          1               36           1      4   67      135000.0       4\n",
      "2          1               36           1      8   92           NaN       4\n",
      "3          4               38           2      5   17      180000.0       4\n",
      "4          4               38           2      5   37      180000.0       4\n"
     ]
    }
   ],
   "source": [
    "#=================================================-\n",
    "#### Slide 11: Subsetting data - cont'd  ####\n",
    "\n",
    "costa_viz = costa_rica_poverty[['ppl_total', 'dependency_rate',\n",
    "                               'num_adults', 'rooms', 'age', 'monthly_rent',\n",
    "                               'Target']]\n",
    "print(costa_viz.head())\n",
    "\n",
    "\n"
   ]
  },
  {
   "cell_type": "code",
   "execution_count": 6,
   "id": "32f4cc98",
   "metadata": {
    "id": "32f4cc98"
   },
   "outputs": [
    {
     "name": "stdout",
     "output_type": "stream",
     "text": [
      "ppl_total             0\n",
      "dependency_rate       0\n",
      "num_adults            0\n",
      "rooms                 0\n",
      "age                   0\n",
      "monthly_rent       6860\n",
      "Target                0\n",
      "dtype: int64\n"
     ]
    }
   ],
   "source": [
    "#=================================================-\n",
    "#### Slide 12: Data prep: clean NAs  ####\n",
    "\n",
    "print(costa_viz.isnull().sum())\n",
    "\n",
    "\n"
   ]
  },
  {
   "cell_type": "code",
   "execution_count": 7,
   "id": "d9d14608",
   "metadata": {
    "id": "d9d14608"
   },
   "outputs": [
    {
     "name": "stdout",
     "output_type": "stream",
     "text": [
      "ppl_total          0\n",
      "dependency_rate    0\n",
      "num_adults         0\n",
      "rooms              0\n",
      "age                0\n",
      "monthly_rent       0\n",
      "Target             0\n",
      "dtype: int64\n"
     ]
    }
   ],
   "source": [
    "#=================================================-\n",
    "#### Slide 13: Data cleaning: NAs  ####\n",
    "\n",
    "# Set the dataframe equal to the imputed dataset.\n",
    "costa_viz = costa_viz.fillna(costa_viz.mean())\n",
    "# Check how many values are null in monthly_rent.\n",
    "print(costa_viz.isnull().sum())\n",
    "\n",
    "\n"
   ]
  },
  {
   "cell_type": "code",
   "execution_count": 8,
   "id": "d161a6f7",
   "metadata": {
    "id": "d161a6f7"
   },
   "outputs": [
    {
     "name": "stdout",
     "output_type": "stream",
     "text": [
      "0    non_vulnerable\n",
      "1    non_vulnerable\n",
      "2    non_vulnerable\n",
      "3    non_vulnerable\n",
      "4    non_vulnerable\n",
      "Name: Target, dtype: object\n"
     ]
    }
   ],
   "source": [
    "#=================================================-\n",
    "#### Slide 14: Converting the target variable  ####\n",
    "\n",
    "costa_viz['Target'] = np.where(costa_viz['Target'] <= 3, 'vulnerable', 'non_vulnerable')\n",
    "print(costa_viz['Target'].head())\n",
    "\n",
    "\n"
   ]
  },
  {
   "cell_type": "code",
   "execution_count": 9,
   "id": "9936b225",
   "metadata": {
    "id": "9936b225"
   },
   "outputs": [
    {
     "name": "stdout",
     "output_type": "stream",
     "text": [
      "object\n",
      "bool\n"
     ]
    }
   ],
   "source": [
    "#=================================================-\n",
    "#### Slide 15: Data prep: target  ####\n",
    "\n",
    "print(costa_viz.Target.dtypes)\n",
    "costa_viz[\"Target\"] = np.where(costa_viz[\"Target\"] == \"non_vulnerable\", True, False)\n",
    "\n",
    "# Check class again.\n",
    "print(costa_viz.Target.dtypes)\n",
    "\n",
    "\n"
   ]
  },
  {
   "cell_type": "code",
   "execution_count": 10,
   "id": "5ab6386a",
   "metadata": {
    "id": "5ab6386a"
   },
   "outputs": [
    {
     "name": "stdout",
     "output_type": "stream",
     "text": [
      "        ppl_total  dependency_rate  num_adults     rooms        age\n",
      "Target                                                             \n",
      "False    4.358607        26.011233    2.388093  4.533839  31.314238\n",
      "True     3.796531        25.425284    2.713809  5.205971  36.078886\n"
     ]
    }
   ],
   "source": [
    "#=================================================-\n",
    "#### Slide 19: Prepare data: group and summarize - cont'd  ####\n",
    "\n",
    "# Group data by `Target` variable.\n",
    "grouped = costa_viz.groupby('Target')\n",
    "\n",
    "# Compute mean on the listed variables using the grouped data.\n",
    "costa_grouped_mean = grouped.mean()[['ppl_total','dependency_rate','num_adults','rooms','age']]\n",
    "print(costa_grouped_mean)\n",
    "\n",
    "\n"
   ]
  },
  {
   "cell_type": "code",
   "execution_count": 13,
   "id": "7ff59354",
   "metadata": {
    "id": "7ff59354"
   },
   "outputs": [
    {
     "name": "stdout",
     "output_type": "stream",
     "text": [
      "   Target  ppl_total  dependency_rate  num_adults     rooms        age\n",
      "0   False   4.358607        26.011233    2.388093  4.533839  31.314238\n",
      "1    True   3.796531        25.425284    2.713809  5.205971  36.078886\n"
     ]
    }
   ],
   "source": [
    "#=================================================-\n",
    "#### Slide 20: Prepare data: group and summarize - cont'd  ####\n",
    "\n",
    "# Reset index of the dataset.\n",
    "costa_grouped_mean = costa_grouped_mean.reset_index()\n",
    "print(costa_grouped_mean)\n",
    "\n",
    "\n"
   ]
  },
  {
   "cell_type": "code",
   "execution_count": 14,
   "id": "a9aee1c2",
   "metadata": {
    "id": "a9aee1c2"
   },
   "outputs": [
    {
     "name": "stdout",
     "output_type": "stream",
     "text": [
      "   Target           metric       mean\n",
      "0   False        ppl_total   4.358607\n",
      "1    True        ppl_total   3.796531\n",
      "2   False  dependency_rate  26.011233\n",
      "3    True  dependency_rate  25.425284\n",
      "4   False       num_adults   2.388093\n",
      "5    True       num_adults   2.713809\n",
      "6   False            rooms   4.533839\n",
      "7    True            rooms   5.205971\n",
      "8   False              age  31.314238\n",
      "9    True              age  36.078886\n"
     ]
    }
   ],
   "source": [
    "#=================================================-\n",
    "#### Slide 23: Wide to long format: melt - cont'd  ####\n",
    "\n",
    "# Melt the wide data into long.\n",
    "costa_grouped_mean_long = pd.melt(costa_grouped_mean,       #<- wide dataset\n",
    "                                  id_vars = ['Target'],     #<- identifying variable\n",
    "                                  var_name = 'metric',      #<- contains col names of wide data\n",
    "                                  value_name = 'mean')      #<- contains values from above columns\n",
    "print(costa_grouped_mean_long)\n",
    "\n",
    "\n",
    "\n"
   ]
  },
  {
   "cell_type": "code",
   "execution_count": 15,
   "id": "98b9b3c1",
   "metadata": {
    "id": "98b9b3c1"
   },
   "outputs": [
    {
     "name": "stdout",
     "output_type": "stream",
     "text": [
      "metric        age  dependency_rate  num_adults  ppl_total     rooms\n",
      "Target                                                             \n",
      "False   31.314238        26.011233    2.388093   4.358607  4.533839\n",
      "True    36.078886        25.425284    2.713809   3.796531  5.205971\n"
     ]
    }
   ],
   "source": [
    "#=================================================-\n",
    "#### Slide 25: Long to wide format: pivot - cont'd  ####\n",
    "\n",
    "# Melt the long data into wide.\n",
    "costa_grouped_mean_wide = costa_grouped_mean_long.pivot(\n",
    "                                                    index = 'Target',   #<- identifying variable\n",
    "                                                    columns = 'metric', #<- col names of wide data\n",
    "                                                    values = 'mean')    #<- values from above columns\n",
    "print(costa_grouped_mean_wide)\n",
    "\n",
    "\n"
   ]
  },
  {
   "cell_type": "code",
   "execution_count": null,
   "id": "37fd2ac8",
   "metadata": {
    "id": "37fd2ac8"
   },
   "outputs": [],
   "source": [
    "#=================================================-\n",
    "#### Slide 27: Pickle cleaned dataset  ####\n",
    "\n",
    "pickle.dump(costa_viz, open(data_dir + \"/costa_viz.sav\",\"wb\"))\n",
    "pickle.dump(costa_grouped_mean_long, open(data_dir + \"/costa_grouped_mean_long.sav\",\"wb\"))\n",
    "pickle.dump(costa_grouped_mean_wide, open(data_dir + \"/costa_grouped_mean_wide.sav\",\"wb\"))\n",
    "\n",
    "\n"
   ]
  },
  {
   "cell_type": "code",
   "execution_count": null,
   "id": "f0c15982",
   "metadata": {
    "id": "f0c15982"
   },
   "outputs": [],
   "source": [
    "#=================================================-\n",
    "#### Slide 29: Exercise 3  ####\n",
    "\n",
    "\n",
    "\n",
    "\n"
   ]
  },
  {
   "cell_type": "code",
   "execution_count": null,
   "id": "a0f68e14",
   "metadata": {
    "id": "a0f68e14"
   },
   "outputs": [],
   "source": [
    "#=================================================-\n",
    "#### Slide 32: Importing matplotlib  ####\n",
    "\n",
    "import matplotlib.pyplot as plt\n",
    "\n",
    "\n"
   ]
  },
  {
   "cell_type": "code",
   "execution_count": null,
   "id": "f98c91d3",
   "metadata": {
    "id": "f98c91d3"
   },
   "outputs": [],
   "source": [
    "#=================================================-\n",
    "#### Slide 34: Univariate plots: histogram  ####\n",
    "\n",
    "plt.rcParams.update({'font.size': 15})\n",
    "plt.hist(costa_viz['rooms'])\n",
    "plt.show()\n",
    "\n",
    "\n"
   ]
  },
  {
   "cell_type": "code",
   "execution_count": null,
   "id": "a375668f",
   "metadata": {
    "id": "a375668f"
   },
   "outputs": [],
   "source": [
    "#=================================================-\n",
    "#### Slide 35: Univariate plots: histogram - cont'd  ####\n",
    "\n",
    "plt.hist(costa_viz['rooms'], bins = 20)\n",
    "plt.xlabel('rooms')       #<- label x-axis\n",
    "plt.ylabel('Frequency')   #<- label y-axis\n",
    "plt.title('Rooms Distribution')  #<- add plot title\n",
    "plt.show()\n",
    "\n",
    "\n"
   ]
  },
  {
   "cell_type": "code",
   "execution_count": null,
   "id": "d7825b7c",
   "metadata": {
    "id": "d7825b7c"
   },
   "outputs": [],
   "source": [
    "#=================================================-\n",
    "#### Slide 36: Univariate plots: boxplot  ####\n",
    "\n",
    "plt.boxplot(costa_viz['ppl_total'])\n",
    "plt.show()\n",
    "\n",
    "\n"
   ]
  },
  {
   "cell_type": "code",
   "execution_count": null,
   "id": "fd7425ae",
   "metadata": {
    "id": "fd7425ae"
   },
   "outputs": [],
   "source": [
    "#=================================================-\n",
    "#### Slide 37: Univariate plots: boxplot - cont'd  ####\n",
    "\n",
    "plt.boxplot(costa_viz['ppl_total'], vert = False)\n",
    "plt.xlabel('ppl_total')     #<- label x-axis\n",
    "# Add plot title\n",
    "plt.title('Number of people distribution')  \n",
    "plt.show()\n",
    "\n",
    "\n"
   ]
  },
  {
   "cell_type": "code",
   "execution_count": null,
   "id": "061b8e01",
   "metadata": {
    "id": "061b8e01"
   },
   "outputs": [],
   "source": [
    "#=================================================-\n",
    "#### Slide 39: Univariate plots: bar chart - cont'd  ####\n",
    "\n",
    "print(costa_grouped_mean_long.head())\n",
    "costa_true_means = costa_grouped_mean_long.query('Target == True')[['metric','mean']]\n",
    "print(costa_true_means)\n",
    "\n",
    "\n"
   ]
  },
  {
   "cell_type": "code",
   "execution_count": null,
   "id": "7033119f",
   "metadata": {
    "id": "7033119f"
   },
   "outputs": [],
   "source": [
    "#=================================================-\n",
    "#### Slide 40: Univariate plots: bar chart - cont'd  ####\n",
    "\n",
    "bar_labels = costa_true_means['metric']     #<- 1\n",
    "bar_heights = costa_true_means['mean']      #<- 2\n",
    "num_bars = len(bar_heights)\n",
    "bar_positions = np.arange(num_bars)         #<- 3\n",
    "\n",
    "\n"
   ]
  },
  {
   "cell_type": "code",
   "execution_count": null,
   "id": "efc04659",
   "metadata": {
    "id": "efc04659"
   },
   "outputs": [],
   "source": [
    "#=================================================-\n",
    "#### Slide 41: Univariate plots: bar chart - cont'd  ####\n",
    "\n",
    "# Adjust figure size before plotting.\n",
    "plt.figure(figsize = (15, 12)) \n",
    "plt.bar(bar_positions, bar_heights)\n",
    "plt.xticks(bar_positions, \n",
    "           bar_labels, \n",
    "           rotation = 18)\n",
    "plt.ylabel('Mean values')\n",
    "plt.title('Costa Means')  #<- add plot title\n",
    "plt.show()\n",
    "\n",
    "\n"
   ]
  },
  {
   "cell_type": "code",
   "execution_count": null,
   "id": "2030fa95",
   "metadata": {
    "id": "2030fa95"
   },
   "outputs": [],
   "source": [
    "#=================================================-\n",
    "#### Slide 44: Bivariate plots: scatterplot  ####\n",
    "\n",
    "plt.scatter(costa_viz['age'],\n",
    "            costa_viz['monthly_rent'])\n",
    "plt.show()\n",
    "\n",
    "\n"
   ]
  },
  {
   "cell_type": "code",
   "execution_count": null,
   "id": "32053483",
   "metadata": {
    "id": "32053483"
   },
   "outputs": [],
   "source": [
    "#=================================================-\n",
    "#### Slide 45: Bivariate plots: scatterplot - cont'd  ####\n",
    "\n",
    "plt.scatter(costa_viz['age'],\n",
    "            costa_viz['monthly_rent'],\n",
    "            marker = \"D\") #<- set marker type to diamond\n",
    "plt.xlabel('Age')\n",
    "plt.ylabel('Monthly rent')\n",
    "plt.title('Distribution')\n",
    "plt.show()\n",
    "\n",
    "\n"
   ]
  },
  {
   "cell_type": "code",
   "execution_count": null,
   "id": "8053dc5a",
   "metadata": {
    "id": "8053dc5a"
   },
   "outputs": [],
   "source": [
    "#=================================================-\n",
    "#### Slide 47: Exercise 4  ####\n",
    "\n",
    "\n",
    "\n",
    "\n"
   ]
  },
  {
   "cell_type": "code",
   "execution_count": null,
   "id": "afaf8438",
   "metadata": {
    "id": "afaf8438"
   },
   "outputs": [],
   "source": [
    "#=================================================-\n",
    "#### Slide 50: Customize colors - cont'd  ####\n",
    "\n",
    "plt.hist(costa_viz['rooms'],\n",
    "            facecolor = 'goldenrod') #<- set color\n",
    "plt.xlabel('Rooms')\n",
    "plt.ylabel('Frequency')\n",
    "plt.title('Rooms distribution')\n",
    "plt.show()\n",
    "plt.bar(bar_positions, \n",
    "        bar_heights, \n",
    "        color = \"orchid\")\n",
    "plt.xticks(bar_positions, bar_labels)\n",
    "plt.ylabel('Mean values')\n",
    "plt.title('Costa Means')  \n",
    "plt.show()\n",
    "\n",
    "\n"
   ]
  },
  {
   "cell_type": "code",
   "execution_count": null,
   "id": "16726053",
   "metadata": {
    "id": "16726053"
   },
   "outputs": [],
   "source": [
    "#=================================================-\n",
    "#### Slide 51: Customize color: scatterplot  ####\n",
    "\n",
    "plt.scatter(costa_viz['age'],\n",
    "            costa_viz['monthly_rent'],\n",
    "            c = 'darkorange') #<- set marker type to diamond\n",
    "plt.xlabel('Age')\n",
    "plt.ylabel('Monthly rent')\n",
    "plt.title('Distribution')\n",
    "plt.show()\n",
    "\n",
    "\n"
   ]
  },
  {
   "cell_type": "code",
   "execution_count": null,
   "id": "68dcea8f",
   "metadata": {
    "id": "68dcea8f"
   },
   "outputs": [],
   "source": [
    "#=================================================-\n",
    "#### Slide 53: Customize color: map colors - cont'd  ####\n",
    "\n",
    "color_dict = {True: 'darkseagreen', \n",
    "              False: 'palevioletred'}\n",
    "color = costa_viz['Target'].map(color_dict)\n",
    "print(color.head())\n",
    "plt.scatter(costa_viz['age'],\n",
    "            costa_viz['monthly_rent'],\n",
    "            c = color)\n",
    "plt.xlabel('Age')\n",
    "plt.ylabel('Monthly rent')\n",
    "plt.title('Distribution')\n",
    "plt.show()\n",
    "\n",
    "\n"
   ]
  },
  {
   "cell_type": "code",
   "execution_count": null,
   "id": "4b854913",
   "metadata": {
    "id": "4b854913"
   },
   "outputs": [],
   "source": [
    "#=================================================-\n",
    "#### Slide 54: Customize color: opacity  ####\n",
    "\n",
    "plt.scatter(costa_viz['age'],\n",
    "            costa_viz['monthly_rent'],\n",
    "            c = color,\n",
    "            alpha = 0.3)\n",
    "plt.xlabel('Age')\n",
    "plt.ylabel('Monthly rent')\n",
    "plt.title('Distribution')\n",
    "plt.show()\n",
    "\n",
    "\n"
   ]
  },
  {
   "cell_type": "code",
   "execution_count": null,
   "id": "50572546",
   "metadata": {
    "id": "50572546"
   },
   "outputs": [],
   "source": [
    "#=================================================-\n",
    "#### Slide 55: Customize plot settings: available styles  ####\n",
    "\n",
    "print(plt.style.available)\n",
    "plt.style.use('ggplot')\n",
    "\n",
    "\n"
   ]
  },
  {
   "cell_type": "code",
   "execution_count": null,
   "id": "36cac3a0",
   "metadata": {
    "id": "36cac3a0"
   },
   "outputs": [],
   "source": [
    "#=================================================-\n",
    "#### Slide 56: Customize plot settings: test ggplot style  ####\n",
    "\n",
    "plt.scatter(costa_viz['age'],\n",
    "            costa_viz['monthly_rent'],\n",
    "            c = color,\n",
    "           alpha = 0.3)\n",
    "plt.xlabel('Age')\n",
    "plt.ylabel('Monthly rent')\n",
    "plt.title('Distribution')\n",
    "plt.show()\n",
    "\n",
    "\n"
   ]
  },
  {
   "cell_type": "code",
   "execution_count": null,
   "id": "e9a036fa",
   "metadata": {
    "id": "e9a036fa"
   },
   "outputs": [],
   "source": [
    "#=================================================  -\n",
    "#### Slide 58: Customize plot settings: labels  ####\n",
    "\n",
    "plt.rcParams['axes.labelsize'] = 20\n",
    "plt.rcParams['axes.labelcolor'] = 'red'\n",
    "plt.rcParams['axes.titlesize'] = 35\n",
    "plt.scatter(costa_viz['age'],\n",
    "            costa_viz['monthly_rent'],\n",
    "            c = color,\n",
    "            alpha = 0.3)\n",
    "plt.xlabel('Age')\n",
    "plt.ylabel('Monthly rent')\n",
    "plt.title('Distribution')\n",
    "plt.show()\n",
    "\n",
    "\n"
   ]
  },
  {
   "cell_type": "code",
   "execution_count": null,
   "id": "dff73c75",
   "metadata": {
    "id": "dff73c75"
   },
   "outputs": [],
   "source": [
    "#================================================= -\n",
    "#### Slide 59: Customize plot settings: reset defaults  ####\n",
    "\n",
    "plt.rcdefaults()\n",
    "plt.scatter(costa_viz['age'],\n",
    "            costa_viz['monthly_rent'],\n",
    "            c = color,\n",
    "           alpha = 0.3)\n",
    "plt.xlabel('Age')\n",
    "plt.ylabel('Monthly rent')\n",
    "plt.title('Distribution')\n",
    "plt.show()\n",
    "\n",
    "\n"
   ]
  }
 ],
 "metadata": {
  "colab": {
   "collapsed_sections": [],
   "name": "aiml-102-day-1-code.ipynb",
   "provenance": []
  },
  "kernelspec": {
   "display_name": "Python 3",
   "language": "python",
   "name": "python3"
  },
  "language": "python",
  "language_info": {
   "codemirror_mode": {
    "name": "ipython",
    "version": 3
   },
   "file_extension": ".py",
   "mimetype": "text/x-python",
   "name": "python",
   "nbconvert_exporter": "python",
   "pygments_lexer": "ipython3",
   "version": "3.7.12"
  }
 },
 "nbformat": 4,
 "nbformat_minor": 5
}
