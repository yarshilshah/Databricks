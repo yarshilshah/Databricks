{
 "cells": [
  {
   "cell_type": "markdown",
   "id": "98ea936f",
   "metadata": {
    "id": "98ea936f"
   },
   "source": [
    "## AIML 102 DAY 1 EXERCISES  ##\n",
    "#### Exercise 3 ####\n",
    "#### Task 1\n",
    "##### Import the required packages.\n",
    "##### Set `data_dir` to the path of the data directory.\n",
    "##### Print data_dir.\n",
    "#### Result:\n"
   ]
  },
  {
   "cell_type": "code",
   "execution_count": null,
   "id": "0551c77e",
   "metadata": {
    "id": "0551c77e"
   },
   "outputs": [],
   "source": []
  },
  {
   "cell_type": "markdown",
   "id": "b0738f54",
   "metadata": {
    "id": "b0738f54"
   },
   "source": [
    "#### Task 2\n",
    "##### Load the `chicago_census.csv` dataset. \n",
    "##### Save it as `chicago_census`.\n",
    "##### View the first few rows of `chicago_census`.\n",
    "#### Result:\n"
   ]
  },
  {
   "cell_type": "code",
   "execution_count": null,
   "id": "1a6879ef",
   "metadata": {
    "id": "1a6879ef"
   },
   "outputs": [],
   "source": []
  },
  {
   "cell_type": "markdown",
   "id": "8be7f5fd",
   "metadata": {
    "id": "8be7f5fd"
   },
   "source": [
    "#### Task 3\n",
    "###### Rename the column names as the following (and double check they are renamed by looking at `.columns`:\n"
   ]
  },
  {
   "cell_type": "code",
   "execution_count": null,
   "id": "258c961e",
   "metadata": {
    "id": "258c961e"
   },
   "outputs": [],
   "source": [
    "chicago_census.rename(columns={'Community Area Number': 'community_number',\n",
    "                               'COMMUNITY AREA NAME': 'community_area' , \n",
    "                               'PERCENT OF HOUSING CROWDED': 'percent_house_crowded', \n",
    "                               'PERCENT HOUSEHOLDS BELOW POVERTY': 'percent_house_below_poverty', \n",
    "                               'PERCENT AGED 16+ UNEMPLOYED': 'percent_16_unemployed' , \n",
    "                               'PERCENT AGED 25+ WITHOUT HIGH SCHOOL DIPLOMA': 'percent_25_without_diploma', \n",
    "                               'PERCENT AGED UNDER 18 OR OVER 64': 'percent_dependent', \n",
    "                               'PER CAPITA INCOME ' : 'per_capita_income',\n",
    "                               'HARDSHIP INDEX': 'hardship_index'}, inplace = True)\n"
   ]
  },
  {
   "cell_type": "markdown",
   "id": "c8ed03d8",
   "metadata": {
    "id": "c8ed03d8"
   },
   "source": [
    "#### Result:\n"
   ]
  },
  {
   "cell_type": "code",
   "execution_count": null,
   "id": "95f9fbd5",
   "metadata": {
    "id": "95f9fbd5"
   },
   "outputs": [],
   "source": []
  },
  {
   "cell_type": "markdown",
   "id": "76453315",
   "metadata": {
    "id": "76453315"
   },
   "source": [
    "#### Task 4\n",
    "##### Drop columns `community_number` and `community_area` from the dataframe.\n",
    "##### Look for NAs in `chicago_census` and impute with the mean of the column.\n",
    "##### Check for NAs again to make sure the data looks good.\n",
    "#### Result:\n"
   ]
  },
  {
   "cell_type": "code",
   "execution_count": null,
   "id": "acd60ba7",
   "metadata": {
    "id": "acd60ba7"
   },
   "outputs": [],
   "source": []
  },
  {
   "cell_type": "markdown",
   "id": "e94467f3",
   "metadata": {
    "id": "e94467f3"
   },
   "source": [
    "#### Task 5\n",
    "##### Create a variable `mean_per_capita_income` which contains the mean of `per_capita_income` from `chicago_census`.\n",
    "##### Convert `per_capita_income` variable to a binary variable where `per_capita_income` is set to 0 if per_capita_income of the row is less than `mean per_capita_income`, otherwise set `per_capita_income` to 1.\n",
    "##### Make a new duplicate dataframe called `ex_viz`.\n",
    "#### Result:\n"
   ]
  },
  {
   "cell_type": "code",
   "execution_count": null,
   "id": "aca64d75",
   "metadata": {
    "id": "aca64d75"
   },
   "outputs": [],
   "source": []
  },
  {
   "cell_type": "markdown",
   "id": "9b9d6358",
   "metadata": {
    "id": "9b9d6358"
   },
   "source": [
    "#### Task 6\n",
    "##### Group `ex_viz` data by the `per_capita_income` variable. Save as `ex_grouped`.\n",
    "##### Then group and summarize the numeric variables `community_number`, `percent_house_crowded`, \n",
    "##### `percent_house_below_poverty`,`percent_16_unemployed`, `percent_25_without_diploma`, `percent_dependent`, \n",
    "###### `hardship_index` by `per_capita_income` using their means. Save as `ex_grouped_mean` and print.\n",
    "##### Reset its index and print the result.\n",
    "#### Result:\n"
   ]
  },
  {
   "cell_type": "code",
   "execution_count": null,
   "id": "e9d104f9",
   "metadata": {
    "id": "e9d104f9"
   },
   "outputs": [],
   "source": []
  },
  {
   "cell_type": "markdown",
   "id": "05325b36",
   "metadata": {
    "id": "05325b36"
   },
   "source": [
    "#### Task 7\n",
    "##### Notice the format of `ex_grouped_mean`. We wish to convert it from wide to long format.\n",
    "##### Use the `pd.melt()` function and convert it to long format. Save as `ex_grouped_mean_long` and print the result.\n",
    "#### Result:\n"
   ]
  },
  {
   "cell_type": "code",
   "execution_count": null,
   "id": "6084b1da",
   "metadata": {
    "id": "6084b1da"
   },
   "outputs": [],
   "source": []
  },
  {
   "cell_type": "markdown",
   "id": "11f164c7",
   "metadata": {
    "id": "11f164c7"
   },
   "source": [
    "#### Task 8\n",
    "##### Now use the `pd.pivot()` function to convert `ex_grouped_mean_long` to wide format.\n",
    "##### Save as `ex_grouped_mean_wide` and print.\n",
    "#### Result:\n"
   ]
  },
  {
   "cell_type": "code",
   "execution_count": null,
   "id": "f6dc8632",
   "metadata": {
    "id": "f6dc8632"
   },
   "outputs": [],
   "source": []
  },
  {
   "cell_type": "markdown",
   "id": "02604efa",
   "metadata": {
    "id": "02604efa"
   },
   "source": [
    "#### Task 9\n",
    "##### Pickle the data frame `ex_viz, ex_grouped_mean_long and ex_grouped_mean_wide` for later use.\n",
    "#### Result:\n"
   ]
  },
  {
   "cell_type": "code",
   "execution_count": null,
   "id": "2b186ee7",
   "metadata": {
    "id": "2b186ee7"
   },
   "outputs": [],
   "source": []
  },
  {
   "cell_type": "markdown",
   "id": "81388abe",
   "metadata": {
    "id": "81388abe"
   },
   "source": [
    "#### Exercise 4 ####\n",
    "#### Task 1\n",
    "##### Use the `plt.hist()` function to create a simple histogram of `percent_house_below_poverty`.\n",
    "#### Result:\n"
   ]
  },
  {
   "cell_type": "code",
   "execution_count": null,
   "id": "dc952326",
   "metadata": {
    "id": "dc952326"
   },
   "outputs": [],
   "source": []
  },
  {
   "cell_type": "markdown",
   "id": "895b89bc",
   "metadata": {
    "id": "895b89bc"
   },
   "source": [
    "#### Task 2\n",
    "##### Now run the same code as above and set the number of bins as 25. \n",
    "##### Name the x-axis and the y-axis as `percent_house_below_poverty` and `Frequency` respectively. \n",
    "##### Also include the title `Percent House below Poverty Distribution`.\n",
    "#### Result:\n"
   ]
  },
  {
   "cell_type": "code",
   "execution_count": null,
   "id": "a0fa786e",
   "metadata": {
    "id": "a0fa786e"
   },
   "outputs": [],
   "source": []
  },
  {
   "cell_type": "markdown",
   "id": "cdac84b4",
   "metadata": {
    "id": "cdac84b4"
   },
   "source": [
    "#### Task 3\n",
    "##### Create a simple boxplot of `percent_dependent` and show the results.\n",
    "##### What can you infer from looking at the plot?\n",
    "#### Result:\n"
   ]
  },
  {
   "cell_type": "code",
   "execution_count": null,
   "id": "7c49b351",
   "metadata": {
    "id": "7c49b351"
   },
   "outputs": [],
   "source": []
  },
  {
   "cell_type": "markdown",
   "id": "1ee60dd7",
   "metadata": {
    "id": "1ee60dd7"
   },
   "source": [
    "##### We can see that the median is closer to the 25th percentile than the 75th percentile (slightly skewed). We can also see a few  outliers.\n",
    "#### Task 4\n",
    "##### Now try to create the same boxplot by changing its orientation to horizontal.\n",
    "##### Also label the x-axis and title accordingly.\n",
    "#### Result:\n"
   ]
  },
  {
   "cell_type": "code",
   "execution_count": null,
   "id": "cfbc34ee",
   "metadata": {
    "id": "cfbc34ee"
   },
   "outputs": [],
   "source": []
  },
  {
   "cell_type": "markdown",
   "id": "e48031f2",
   "metadata": {
    "id": "e48031f2"
   },
   "source": [
    "#### Task 5\n",
    "##### Now let's create a barplot using the long data `ex_grouped_mean_long`.\n",
    "##### To do that, first filter `per_capita_income` as 1 and then create two columns in the dataframe: `metrics` and `means`.\n",
    "##### Save as `ex_true_means` and print.\n",
    "#### Result:\n"
   ]
  },
  {
   "cell_type": "code",
   "execution_count": null,
   "id": "5d67fb41",
   "metadata": {
    "id": "5d67fb41"
   },
   "outputs": [],
   "source": []
  },
  {
   "cell_type": "markdown",
   "id": "de4cf4af",
   "metadata": {
    "id": "de4cf4af"
   },
   "source": [
    "#### Task 6\n",
    "##### Create the following variables needed to construct a bar plot:\n",
    "- `ex_bar_labels` with the `metric`\n",
    "- `ex_bar_heights` with the `mean`\n",
    "- `num_bars` having the length of `ex_bar_heights`\n",
    "- `ex_bar_positions` having the range of `ex_num_bars`\n",
    "#### Result:\n"
   ]
  },
  {
   "cell_type": "code",
   "execution_count": null,
   "id": "7b9fa9bf",
   "metadata": {
    "id": "7b9fa9bf"
   },
   "outputs": [],
   "source": []
  },
  {
   "cell_type": "markdown",
   "id": "61b7bee1",
   "metadata": {
    "id": "61b7bee1"
   },
   "source": [
    "#### Task 7\n",
    "##### Create a basic bar chart with the variables above. \n",
    "##### Label the title and y-axis accordingly. \n",
    "##### Add the title \"Chicago Exercise Means\".\n",
    "#####  Rotate the labels to a vertical position ( set `rotation`= 90 ) to make them easier to read.\n",
    "#### Result:\n"
   ]
  },
  {
   "cell_type": "code",
   "execution_count": null,
   "id": "ead27414",
   "metadata": {
    "id": "ead27414"
   },
   "outputs": [],
   "source": []
  },
  {
   "cell_type": "markdown",
   "id": "f7d10fb0",
   "metadata": {
    "id": "f7d10fb0"
   },
   "source": [
    "#### Task 8\n",
    "##### Plot the above bar chart, this time by adjusting the size of the figure.\n",
    "##### Use the `plt.figsize()` to set the width as `20` and the height as `15`.\n",
    "#### Result:\n"
   ]
  },
  {
   "cell_type": "code",
   "execution_count": null,
   "id": "e154de08",
   "metadata": {
    "id": "e154de08"
   },
   "outputs": [],
   "source": []
  },
  {
   "cell_type": "markdown",
   "id": "f1885c5d",
   "metadata": {
    "id": "f1885c5d"
   },
   "source": [
    "#### Task 9\n",
    "##### Create a simple scatterplot with `percent_16_unemployed` on the x-axis and `hardship_index` on the y-axis.\n",
    "#### Result:\n"
   ]
  },
  {
   "cell_type": "code",
   "execution_count": null,
   "id": "adbde751",
   "metadata": {
    "id": "adbde751"
   },
   "outputs": [],
   "source": []
  },
  {
   "cell_type": "markdown",
   "id": "4311a551",
   "metadata": {
    "id": "4311a551"
   },
   "source": [
    "#### Task 10\n",
    "##### Plot the above scatterplot and name the axes and title accordingly.\n",
    "##### Set the marker to `X` and view the plot.\n",
    "#### Result:\n"
   ]
  },
  {
   "cell_type": "code",
   "execution_count": null,
   "id": "76b4f1d7",
   "metadata": {
    "id": "76b4f1d7"
   },
   "outputs": [],
   "source": []
  },
  {
   "cell_type": "markdown",
   "id": "403d398b",
   "metadata": {
    "id": "403d398b"
   },
   "source": [
    "#### Exercise 5 ####\n",
    "#### Task 1\n",
    "##### Customize the following graphs and view the plots as mentioned below:\n",
    "- Histogram of variable `percent_house_below_poverty` and color `lightcoral` \n",
    "- Above bar chart  using color `thistle` using the `plt.figsize()` to set the width as `20` and the height as `15`.\n",
    "- Above scatterplot of `percent_16_unemployed` on the x-axis and `hardship_index` on the y-axis using color `firebrick`\n",
    "#### Result:\n"
   ]
  },
  {
   "cell_type": "code",
   "execution_count": null,
   "id": "2ec55389",
   "metadata": {
    "id": "2ec55389"
   },
   "outputs": [],
   "source": []
  },
  {
   "cell_type": "markdown",
   "id": "edbe041a",
   "metadata": {
    "id": "edbe041a"
   },
   "source": [
    "#### Task 2\n",
    "##### Create a color dictionary called `ex_color_dict` corresponding with `per_capita_income`:\n",
    "##### - 0 corresponding to color `darkorange`\n",
    "##### - 1 corresponding to color `skyblue`\n",
    "##### Set the color as `ex_color_dict` and create a scatterplot with the same parameters `percent_16_unemployed` and `hardship_index`.\n",
    "##### Then, change the opacity using `alpha` to 0.6.\n",
    "#### Result:\n"
   ]
  },
  {
   "cell_type": "code",
   "execution_count": null,
   "id": "0f154060",
   "metadata": {
    "id": "0f154060"
   },
   "outputs": [],
   "source": []
  },
  {
   "cell_type": "markdown",
   "id": "68991ca5",
   "metadata": {
    "id": "68991ca5"
   },
   "source": [
    "#### Task 3\n",
    "##### Print the available pre-defined styles provided by `matplotlib`.\n",
    "##### Set the style to ` seaborn-darkgrid` .\n",
    "##### Construct the scatterplot above.\n",
    "##### Run the scatterplot again, this time setting the labels using `.rcParams` as:\n",
    "##### - label size as 20\n",
    "##### - label color as red\n",
    "##### - figure title size as 15\n",
    "##### Reset the `rcParams` to default.\n",
    "#### Result:\n"
   ]
  },
  {
   "cell_type": "code",
   "execution_count": null,
   "id": "4fe76dd8",
   "metadata": {
    "id": "4fe76dd8"
   },
   "outputs": [],
   "source": []
  }
 ],
 "metadata": {
  "colab": {
   "collapsed_sections": [],
   "name": "aiml-102-day-1-exercises.ipynb",
   "provenance": []
  },
  "kernelspec": {
   "display_name": "Python 3",
   "language": "python",
   "name": "python3"
  },
  "language": "python",
  "language_info": {
   "codemirror_mode": {
    "name": "ipython",
    "version": 3
   },
   "file_extension": ".py",
   "mimetype": "text/x-python",
   "name": "python",
   "nbconvert_exporter": "python",
   "pygments_lexer": "ipython3",
   "version": "3.7.12"
  }
 },
 "nbformat": 4,
 "nbformat_minor": 5
}
